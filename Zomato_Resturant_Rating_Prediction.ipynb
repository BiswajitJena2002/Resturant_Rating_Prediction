{
 "cells": [
  {
   "cell_type": "markdown",
   "id": "28ab270d",
   "metadata": {},
   "source": [
    "# Import Important Library"
   ]
  },
  {
   "cell_type": "code",
   "execution_count": 1,
   "id": "c652a342",
   "metadata": {},
   "outputs": [],
   "source": [
    "import pandas as pd\n",
    "import numpy as np\n",
    "import matplotlib.pyplot as plt\n",
    "import seaborn as sns\n",
    "%matplotlib inline"
   ]
  },
  {
   "cell_type": "code",
   "execution_count": 2,
   "id": "8d39039b",
   "metadata": {},
   "outputs": [],
   "source": [
    "# Hide the warnings\n",
    "import warnings\n",
    "warnings.filterwarnings('ignore')"
   ]
  },
  {
   "cell_type": "markdown",
   "id": "d3f01ff7",
   "metadata": {},
   "source": [
    "# Load The Dataset"
   ]
  },
  {
   "cell_type": "code",
   "execution_count": 3,
   "id": "11075d47",
   "metadata": {},
   "outputs": [
    {
     "data": {
      "text/html": [
       "<div>\n",
       "<style scoped>\n",
       "    .dataframe tbody tr th:only-of-type {\n",
       "        vertical-align: middle;\n",
       "    }\n",
       "\n",
       "    .dataframe tbody tr th {\n",
       "        vertical-align: top;\n",
       "    }\n",
       "\n",
       "    .dataframe thead th {\n",
       "        text-align: right;\n",
       "    }\n",
       "</style>\n",
       "<table border=\"1\" class=\"dataframe\">\n",
       "  <thead>\n",
       "    <tr style=\"text-align: right;\">\n",
       "      <th></th>\n",
       "      <th>url</th>\n",
       "      <th>address</th>\n",
       "      <th>name</th>\n",
       "      <th>online_order</th>\n",
       "      <th>book_table</th>\n",
       "      <th>rate</th>\n",
       "      <th>votes</th>\n",
       "      <th>phone</th>\n",
       "      <th>location</th>\n",
       "      <th>rest_type</th>\n",
       "      <th>dish_liked</th>\n",
       "      <th>cuisines</th>\n",
       "      <th>approx_cost(for two people)</th>\n",
       "      <th>reviews_list</th>\n",
       "      <th>menu_item</th>\n",
       "      <th>listed_in(type)</th>\n",
       "      <th>listed_in(city)</th>\n",
       "    </tr>\n",
       "  </thead>\n",
       "  <tbody>\n",
       "    <tr>\n",
       "      <th>0</th>\n",
       "      <td>https://www.zomato.com/bangalore/jalsa-banasha...</td>\n",
       "      <td>942, 21st Main Road, 2nd Stage, Banashankari, ...</td>\n",
       "      <td>Jalsa</td>\n",
       "      <td>Yes</td>\n",
       "      <td>Yes</td>\n",
       "      <td>4.1/5</td>\n",
       "      <td>775</td>\n",
       "      <td>080 42297555\\r\\n+91 9743772233</td>\n",
       "      <td>Banashankari</td>\n",
       "      <td>Casual Dining</td>\n",
       "      <td>Pasta, Lunch Buffet, Masala Papad, Paneer Laja...</td>\n",
       "      <td>North Indian, Mughlai, Chinese</td>\n",
       "      <td>800</td>\n",
       "      <td>[('Rated 4.0', 'RATED\\n  A beautiful place to ...</td>\n",
       "      <td>[]</td>\n",
       "      <td>Buffet</td>\n",
       "      <td>Banashankari</td>\n",
       "    </tr>\n",
       "    <tr>\n",
       "      <th>1</th>\n",
       "      <td>https://www.zomato.com/bangalore/spice-elephan...</td>\n",
       "      <td>2nd Floor, 80 Feet Road, Near Big Bazaar, 6th ...</td>\n",
       "      <td>Spice Elephant</td>\n",
       "      <td>Yes</td>\n",
       "      <td>No</td>\n",
       "      <td>4.1/5</td>\n",
       "      <td>787</td>\n",
       "      <td>080 41714161</td>\n",
       "      <td>Banashankari</td>\n",
       "      <td>Casual Dining</td>\n",
       "      <td>Momos, Lunch Buffet, Chocolate Nirvana, Thai G...</td>\n",
       "      <td>Chinese, North Indian, Thai</td>\n",
       "      <td>800</td>\n",
       "      <td>[('Rated 4.0', 'RATED\\n  Had been here for din...</td>\n",
       "      <td>[]</td>\n",
       "      <td>Buffet</td>\n",
       "      <td>Banashankari</td>\n",
       "    </tr>\n",
       "    <tr>\n",
       "      <th>2</th>\n",
       "      <td>https://www.zomato.com/SanchurroBangalore?cont...</td>\n",
       "      <td>1112, Next to KIMS Medical College, 17th Cross...</td>\n",
       "      <td>San Churro Cafe</td>\n",
       "      <td>Yes</td>\n",
       "      <td>No</td>\n",
       "      <td>3.8/5</td>\n",
       "      <td>918</td>\n",
       "      <td>+91 9663487993</td>\n",
       "      <td>Banashankari</td>\n",
       "      <td>Cafe, Casual Dining</td>\n",
       "      <td>Churros, Cannelloni, Minestrone Soup, Hot Choc...</td>\n",
       "      <td>Cafe, Mexican, Italian</td>\n",
       "      <td>800</td>\n",
       "      <td>[('Rated 3.0', \"RATED\\n  Ambience is not that ...</td>\n",
       "      <td>[]</td>\n",
       "      <td>Buffet</td>\n",
       "      <td>Banashankari</td>\n",
       "    </tr>\n",
       "    <tr>\n",
       "      <th>3</th>\n",
       "      <td>https://www.zomato.com/bangalore/addhuri-udupi...</td>\n",
       "      <td>1st Floor, Annakuteera, 3rd Stage, Banashankar...</td>\n",
       "      <td>Addhuri Udupi Bhojana</td>\n",
       "      <td>No</td>\n",
       "      <td>No</td>\n",
       "      <td>3.7/5</td>\n",
       "      <td>88</td>\n",
       "      <td>+91 9620009302</td>\n",
       "      <td>Banashankari</td>\n",
       "      <td>Quick Bites</td>\n",
       "      <td>Masala Dosa</td>\n",
       "      <td>South Indian, North Indian</td>\n",
       "      <td>300</td>\n",
       "      <td>[('Rated 4.0', \"RATED\\n  Great food and proper...</td>\n",
       "      <td>[]</td>\n",
       "      <td>Buffet</td>\n",
       "      <td>Banashankari</td>\n",
       "    </tr>\n",
       "    <tr>\n",
       "      <th>4</th>\n",
       "      <td>https://www.zomato.com/bangalore/grand-village...</td>\n",
       "      <td>10, 3rd Floor, Lakshmi Associates, Gandhi Baza...</td>\n",
       "      <td>Grand Village</td>\n",
       "      <td>No</td>\n",
       "      <td>No</td>\n",
       "      <td>3.8/5</td>\n",
       "      <td>166</td>\n",
       "      <td>+91 8026612447\\r\\n+91 9901210005</td>\n",
       "      <td>Basavanagudi</td>\n",
       "      <td>Casual Dining</td>\n",
       "      <td>Panipuri, Gol Gappe</td>\n",
       "      <td>North Indian, Rajasthani</td>\n",
       "      <td>600</td>\n",
       "      <td>[('Rated 4.0', 'RATED\\n  Very good restaurant ...</td>\n",
       "      <td>[]</td>\n",
       "      <td>Buffet</td>\n",
       "      <td>Banashankari</td>\n",
       "    </tr>\n",
       "  </tbody>\n",
       "</table>\n",
       "</div>"
      ],
      "text/plain": [
       "                                                 url  \\\n",
       "0  https://www.zomato.com/bangalore/jalsa-banasha...   \n",
       "1  https://www.zomato.com/bangalore/spice-elephan...   \n",
       "2  https://www.zomato.com/SanchurroBangalore?cont...   \n",
       "3  https://www.zomato.com/bangalore/addhuri-udupi...   \n",
       "4  https://www.zomato.com/bangalore/grand-village...   \n",
       "\n",
       "                                             address                   name  \\\n",
       "0  942, 21st Main Road, 2nd Stage, Banashankari, ...                  Jalsa   \n",
       "1  2nd Floor, 80 Feet Road, Near Big Bazaar, 6th ...         Spice Elephant   \n",
       "2  1112, Next to KIMS Medical College, 17th Cross...        San Churro Cafe   \n",
       "3  1st Floor, Annakuteera, 3rd Stage, Banashankar...  Addhuri Udupi Bhojana   \n",
       "4  10, 3rd Floor, Lakshmi Associates, Gandhi Baza...          Grand Village   \n",
       "\n",
       "  online_order book_table   rate  votes                             phone  \\\n",
       "0          Yes        Yes  4.1/5    775    080 42297555\\r\\n+91 9743772233   \n",
       "1          Yes         No  4.1/5    787                      080 41714161   \n",
       "2          Yes         No  3.8/5    918                    +91 9663487993   \n",
       "3           No         No  3.7/5     88                    +91 9620009302   \n",
       "4           No         No  3.8/5    166  +91 8026612447\\r\\n+91 9901210005   \n",
       "\n",
       "       location            rest_type  \\\n",
       "0  Banashankari        Casual Dining   \n",
       "1  Banashankari        Casual Dining   \n",
       "2  Banashankari  Cafe, Casual Dining   \n",
       "3  Banashankari          Quick Bites   \n",
       "4  Basavanagudi        Casual Dining   \n",
       "\n",
       "                                          dish_liked  \\\n",
       "0  Pasta, Lunch Buffet, Masala Papad, Paneer Laja...   \n",
       "1  Momos, Lunch Buffet, Chocolate Nirvana, Thai G...   \n",
       "2  Churros, Cannelloni, Minestrone Soup, Hot Choc...   \n",
       "3                                        Masala Dosa   \n",
       "4                                Panipuri, Gol Gappe   \n",
       "\n",
       "                         cuisines approx_cost(for two people)  \\\n",
       "0  North Indian, Mughlai, Chinese                         800   \n",
       "1     Chinese, North Indian, Thai                         800   \n",
       "2          Cafe, Mexican, Italian                         800   \n",
       "3      South Indian, North Indian                         300   \n",
       "4        North Indian, Rajasthani                         600   \n",
       "\n",
       "                                        reviews_list menu_item  \\\n",
       "0  [('Rated 4.0', 'RATED\\n  A beautiful place to ...        []   \n",
       "1  [('Rated 4.0', 'RATED\\n  Had been here for din...        []   \n",
       "2  [('Rated 3.0', \"RATED\\n  Ambience is not that ...        []   \n",
       "3  [('Rated 4.0', \"RATED\\n  Great food and proper...        []   \n",
       "4  [('Rated 4.0', 'RATED\\n  Very good restaurant ...        []   \n",
       "\n",
       "  listed_in(type) listed_in(city)  \n",
       "0          Buffet    Banashankari  \n",
       "1          Buffet    Banashankari  \n",
       "2          Buffet    Banashankari  \n",
       "3          Buffet    Banashankari  \n",
       "4          Buffet    Banashankari  "
      ]
     },
     "execution_count": 3,
     "metadata": {},
     "output_type": "execute_result"
    }
   ],
   "source": [
    "dataset=pd.read_csv('zomato.csv')\n",
    "dataset.head()"
   ]
  },
  {
   "cell_type": "code",
   "execution_count": 4,
   "id": "32805c8a",
   "metadata": {},
   "outputs": [
    {
     "data": {
      "text/plain": [
       "(51717, 17)"
      ]
     },
     "execution_count": 4,
     "metadata": {},
     "output_type": "execute_result"
    }
   ],
   "source": [
    "dataset.shape"
   ]
  },
  {
   "cell_type": "code",
   "execution_count": 5,
   "id": "d6ad01df",
   "metadata": {},
   "outputs": [
    {
     "name": "stdout",
     "output_type": "stream",
     "text": [
      "<class 'pandas.core.frame.DataFrame'>\n",
      "RangeIndex: 51717 entries, 0 to 51716\n",
      "Data columns (total 17 columns):\n",
      " #   Column                       Non-Null Count  Dtype \n",
      "---  ------                       --------------  ----- \n",
      " 0   url                          51717 non-null  object\n",
      " 1   address                      51717 non-null  object\n",
      " 2   name                         51717 non-null  object\n",
      " 3   online_order                 51717 non-null  object\n",
      " 4   book_table                   51717 non-null  object\n",
      " 5   rate                         43942 non-null  object\n",
      " 6   votes                        51717 non-null  int64 \n",
      " 7   phone                        50509 non-null  object\n",
      " 8   location                     51696 non-null  object\n",
      " 9   rest_type                    51490 non-null  object\n",
      " 10  dish_liked                   23639 non-null  object\n",
      " 11  cuisines                     51672 non-null  object\n",
      " 12  approx_cost(for two people)  51371 non-null  object\n",
      " 13  reviews_list                 51717 non-null  object\n",
      " 14  menu_item                    51717 non-null  object\n",
      " 15  listed_in(type)              51717 non-null  object\n",
      " 16  listed_in(city)              51717 non-null  object\n",
      "dtypes: int64(1), object(16)\n",
      "memory usage: 6.7+ MB\n"
     ]
    }
   ],
   "source": [
    "dataset.info()"
   ]
  },
  {
   "cell_type": "markdown",
   "id": "685622d9",
   "metadata": {},
   "source": [
    "Dataset has 51717 rows and 16 columns.out of 16 columns only vote column has numerical value and other columns has object datatype."
   ]
  },
  {
   "cell_type": "markdown",
   "id": "7e460931",
   "metadata": {},
   "source": [
    "# Data Preprocessing"
   ]
  },
  {
   "cell_type": "markdown",
   "id": "ac465dc1",
   "metadata": {},
   "source": [
    "1.MISSING VALUES"
   ]
  },
  {
   "cell_type": "code",
   "execution_count": 6,
   "id": "0d416f91",
   "metadata": {},
   "outputs": [
    {
     "data": {
      "text/plain": [
       "['rate',\n",
       " 'phone',\n",
       " 'location',\n",
       " 'rest_type',\n",
       " 'dish_liked',\n",
       " 'cuisines',\n",
       " 'approx_cost(for two people)']"
      ]
     },
     "execution_count": 6,
     "metadata": {},
     "output_type": "execute_result"
    }
   ],
   "source": [
    "Nan_Dataset=[features for features in dataset.columns if dataset[features].isnull().sum() > 0]\n",
    "Nan_Dataset"
   ]
  },
  {
   "cell_type": "markdown",
   "id": "a8af4fa3",
   "metadata": {},
   "source": [
    "% Percentage of missing values in each columns"
   ]
  },
  {
   "cell_type": "code",
   "execution_count": 7,
   "id": "1e19a745",
   "metadata": {},
   "outputs": [
    {
     "data": {
      "text/plain": [
       "url                             0.000000\n",
       "address                         0.000000\n",
       "name                            0.000000\n",
       "online_order                    0.000000\n",
       "book_table                      0.000000\n",
       "rate                           15.033741\n",
       "votes                           0.000000\n",
       "phone                           2.335789\n",
       "location                        0.040606\n",
       "rest_type                       0.438927\n",
       "dish_liked                     54.291626\n",
       "cuisines                        0.087012\n",
       "approx_cost(for two people)     0.669026\n",
       "reviews_list                    0.000000\n",
       "menu_item                       0.000000\n",
       "listed_in(type)                 0.000000\n",
       "listed_in(city)                 0.000000\n",
       "dtype: float64"
      ]
     },
     "execution_count": 7,
     "metadata": {},
     "output_type": "execute_result"
    }
   ],
   "source": [
    "dataset.isnull().mean()*100"
   ]
  },
  {
   "cell_type": "markdown",
   "id": "fed08058",
   "metadata": {},
   "source": [
    "Dish_liked columns has maximum missing value more than 50%"
   ]
  },
  {
   "cell_type": "markdown",
   "id": "aeafb7bd",
   "metadata": {},
   "source": [
    "# remove columns And make new dataset "
   ]
  },
  {
   "cell_type": "code",
   "execution_count": 8,
   "id": "693114bc",
   "metadata": {},
   "outputs": [
    {
     "data": {
      "text/html": [
       "<div>\n",
       "<style scoped>\n",
       "    .dataframe tbody tr th:only-of-type {\n",
       "        vertical-align: middle;\n",
       "    }\n",
       "\n",
       "    .dataframe tbody tr th {\n",
       "        vertical-align: top;\n",
       "    }\n",
       "\n",
       "    .dataframe thead th {\n",
       "        text-align: right;\n",
       "    }\n",
       "</style>\n",
       "<table border=\"1\" class=\"dataframe\">\n",
       "  <thead>\n",
       "    <tr style=\"text-align: right;\">\n",
       "      <th></th>\n",
       "      <th>name</th>\n",
       "      <th>online_order</th>\n",
       "      <th>book_table</th>\n",
       "      <th>rate</th>\n",
       "      <th>votes</th>\n",
       "      <th>rest_type</th>\n",
       "      <th>cuisines</th>\n",
       "      <th>approx_cost(for two people)</th>\n",
       "      <th>listed_in(type)</th>\n",
       "      <th>listed_in(city)</th>\n",
       "    </tr>\n",
       "  </thead>\n",
       "  <tbody>\n",
       "    <tr>\n",
       "      <th>0</th>\n",
       "      <td>Jalsa</td>\n",
       "      <td>Yes</td>\n",
       "      <td>Yes</td>\n",
       "      <td>4.1/5</td>\n",
       "      <td>775</td>\n",
       "      <td>Casual Dining</td>\n",
       "      <td>North Indian, Mughlai, Chinese</td>\n",
       "      <td>800</td>\n",
       "      <td>Buffet</td>\n",
       "      <td>Banashankari</td>\n",
       "    </tr>\n",
       "    <tr>\n",
       "      <th>1</th>\n",
       "      <td>Spice Elephant</td>\n",
       "      <td>Yes</td>\n",
       "      <td>No</td>\n",
       "      <td>4.1/5</td>\n",
       "      <td>787</td>\n",
       "      <td>Casual Dining</td>\n",
       "      <td>Chinese, North Indian, Thai</td>\n",
       "      <td>800</td>\n",
       "      <td>Buffet</td>\n",
       "      <td>Banashankari</td>\n",
       "    </tr>\n",
       "    <tr>\n",
       "      <th>2</th>\n",
       "      <td>San Churro Cafe</td>\n",
       "      <td>Yes</td>\n",
       "      <td>No</td>\n",
       "      <td>3.8/5</td>\n",
       "      <td>918</td>\n",
       "      <td>Cafe, Casual Dining</td>\n",
       "      <td>Cafe, Mexican, Italian</td>\n",
       "      <td>800</td>\n",
       "      <td>Buffet</td>\n",
       "      <td>Banashankari</td>\n",
       "    </tr>\n",
       "    <tr>\n",
       "      <th>3</th>\n",
       "      <td>Addhuri Udupi Bhojana</td>\n",
       "      <td>No</td>\n",
       "      <td>No</td>\n",
       "      <td>3.7/5</td>\n",
       "      <td>88</td>\n",
       "      <td>Quick Bites</td>\n",
       "      <td>South Indian, North Indian</td>\n",
       "      <td>300</td>\n",
       "      <td>Buffet</td>\n",
       "      <td>Banashankari</td>\n",
       "    </tr>\n",
       "    <tr>\n",
       "      <th>4</th>\n",
       "      <td>Grand Village</td>\n",
       "      <td>No</td>\n",
       "      <td>No</td>\n",
       "      <td>3.8/5</td>\n",
       "      <td>166</td>\n",
       "      <td>Casual Dining</td>\n",
       "      <td>North Indian, Rajasthani</td>\n",
       "      <td>600</td>\n",
       "      <td>Buffet</td>\n",
       "      <td>Banashankari</td>\n",
       "    </tr>\n",
       "  </tbody>\n",
       "</table>\n",
       "</div>"
      ],
      "text/plain": [
       "                    name online_order book_table   rate  votes  \\\n",
       "0                  Jalsa          Yes        Yes  4.1/5    775   \n",
       "1         Spice Elephant          Yes         No  4.1/5    787   \n",
       "2        San Churro Cafe          Yes         No  3.8/5    918   \n",
       "3  Addhuri Udupi Bhojana           No         No  3.7/5     88   \n",
       "4          Grand Village           No         No  3.8/5    166   \n",
       "\n",
       "             rest_type                        cuisines  \\\n",
       "0        Casual Dining  North Indian, Mughlai, Chinese   \n",
       "1        Casual Dining     Chinese, North Indian, Thai   \n",
       "2  Cafe, Casual Dining          Cafe, Mexican, Italian   \n",
       "3          Quick Bites      South Indian, North Indian   \n",
       "4        Casual Dining        North Indian, Rajasthani   \n",
       "\n",
       "  approx_cost(for two people) listed_in(type) listed_in(city)  \n",
       "0                         800          Buffet    Banashankari  \n",
       "1                         800          Buffet    Banashankari  \n",
       "2                         800          Buffet    Banashankari  \n",
       "3                         300          Buffet    Banashankari  \n",
       "4                         600          Buffet    Banashankari  "
      ]
     },
     "execution_count": 8,
     "metadata": {},
     "output_type": "execute_result"
    }
   ],
   "source": [
    "Zomato_dataset=dataset.drop(['url','phone','address','dish_liked','reviews_list','menu_item','location'],axis=1)\n",
    "Zomato_dataset.head()"
   ]
  },
  {
   "cell_type": "markdown",
   "id": "3dda8b41",
   "metadata": {},
   "source": [
    "# Rename some column Names"
   ]
  },
  {
   "cell_type": "code",
   "execution_count": 9,
   "id": "720a8619",
   "metadata": {},
   "outputs": [],
   "source": [
    "Zomato_dataset.rename({'approx_cost(for two people)' :'approx_cost_for_2_People',\n",
    "                       'listed_in(type)':'Resturant_type',\n",
    "                       'listed_in(city)':'city'    },axis=1,inplace=True)"
   ]
  },
  {
   "cell_type": "code",
   "execution_count": 10,
   "id": "5d7ed18c",
   "metadata": {},
   "outputs": [
    {
     "data": {
      "text/html": [
       "<div>\n",
       "<style scoped>\n",
       "    .dataframe tbody tr th:only-of-type {\n",
       "        vertical-align: middle;\n",
       "    }\n",
       "\n",
       "    .dataframe tbody tr th {\n",
       "        vertical-align: top;\n",
       "    }\n",
       "\n",
       "    .dataframe thead th {\n",
       "        text-align: right;\n",
       "    }\n",
       "</style>\n",
       "<table border=\"1\" class=\"dataframe\">\n",
       "  <thead>\n",
       "    <tr style=\"text-align: right;\">\n",
       "      <th></th>\n",
       "      <th>name</th>\n",
       "      <th>online_order</th>\n",
       "      <th>book_table</th>\n",
       "      <th>rate</th>\n",
       "      <th>votes</th>\n",
       "      <th>rest_type</th>\n",
       "      <th>cuisines</th>\n",
       "      <th>approx_cost_for_2_People</th>\n",
       "      <th>Resturant_type</th>\n",
       "      <th>city</th>\n",
       "    </tr>\n",
       "  </thead>\n",
       "  <tbody>\n",
       "    <tr>\n",
       "      <th>0</th>\n",
       "      <td>Jalsa</td>\n",
       "      <td>Yes</td>\n",
       "      <td>Yes</td>\n",
       "      <td>4.1/5</td>\n",
       "      <td>775</td>\n",
       "      <td>Casual Dining</td>\n",
       "      <td>North Indian, Mughlai, Chinese</td>\n",
       "      <td>800</td>\n",
       "      <td>Buffet</td>\n",
       "      <td>Banashankari</td>\n",
       "    </tr>\n",
       "    <tr>\n",
       "      <th>1</th>\n",
       "      <td>Spice Elephant</td>\n",
       "      <td>Yes</td>\n",
       "      <td>No</td>\n",
       "      <td>4.1/5</td>\n",
       "      <td>787</td>\n",
       "      <td>Casual Dining</td>\n",
       "      <td>Chinese, North Indian, Thai</td>\n",
       "      <td>800</td>\n",
       "      <td>Buffet</td>\n",
       "      <td>Banashankari</td>\n",
       "    </tr>\n",
       "    <tr>\n",
       "      <th>2</th>\n",
       "      <td>San Churro Cafe</td>\n",
       "      <td>Yes</td>\n",
       "      <td>No</td>\n",
       "      <td>3.8/5</td>\n",
       "      <td>918</td>\n",
       "      <td>Cafe, Casual Dining</td>\n",
       "      <td>Cafe, Mexican, Italian</td>\n",
       "      <td>800</td>\n",
       "      <td>Buffet</td>\n",
       "      <td>Banashankari</td>\n",
       "    </tr>\n",
       "    <tr>\n",
       "      <th>3</th>\n",
       "      <td>Addhuri Udupi Bhojana</td>\n",
       "      <td>No</td>\n",
       "      <td>No</td>\n",
       "      <td>3.7/5</td>\n",
       "      <td>88</td>\n",
       "      <td>Quick Bites</td>\n",
       "      <td>South Indian, North Indian</td>\n",
       "      <td>300</td>\n",
       "      <td>Buffet</td>\n",
       "      <td>Banashankari</td>\n",
       "    </tr>\n",
       "    <tr>\n",
       "      <th>4</th>\n",
       "      <td>Grand Village</td>\n",
       "      <td>No</td>\n",
       "      <td>No</td>\n",
       "      <td>3.8/5</td>\n",
       "      <td>166</td>\n",
       "      <td>Casual Dining</td>\n",
       "      <td>North Indian, Rajasthani</td>\n",
       "      <td>600</td>\n",
       "      <td>Buffet</td>\n",
       "      <td>Banashankari</td>\n",
       "    </tr>\n",
       "  </tbody>\n",
       "</table>\n",
       "</div>"
      ],
      "text/plain": [
       "                    name online_order book_table   rate  votes  \\\n",
       "0                  Jalsa          Yes        Yes  4.1/5    775   \n",
       "1         Spice Elephant          Yes         No  4.1/5    787   \n",
       "2        San Churro Cafe          Yes         No  3.8/5    918   \n",
       "3  Addhuri Udupi Bhojana           No         No  3.7/5     88   \n",
       "4          Grand Village           No         No  3.8/5    166   \n",
       "\n",
       "             rest_type                        cuisines  \\\n",
       "0        Casual Dining  North Indian, Mughlai, Chinese   \n",
       "1        Casual Dining     Chinese, North Indian, Thai   \n",
       "2  Cafe, Casual Dining          Cafe, Mexican, Italian   \n",
       "3          Quick Bites      South Indian, North Indian   \n",
       "4        Casual Dining        North Indian, Rajasthani   \n",
       "\n",
       "  approx_cost_for_2_People Resturant_type          city  \n",
       "0                      800         Buffet  Banashankari  \n",
       "1                      800         Buffet  Banashankari  \n",
       "2                      800         Buffet  Banashankari  \n",
       "3                      300         Buffet  Banashankari  \n",
       "4                      600         Buffet  Banashankari  "
      ]
     },
     "execution_count": 10,
     "metadata": {},
     "output_type": "execute_result"
    }
   ],
   "source": [
    "Zomato_dataset.head()"
   ]
  },
  {
   "cell_type": "markdown",
   "id": "144773fa",
   "metadata": {},
   "source": [
    "# find Unique values in each columns"
   ]
  },
  {
   "cell_type": "code",
   "execution_count": 11,
   "id": "9cbbc833",
   "metadata": {},
   "outputs": [
    {
     "name": "stdout",
     "output_type": "stream",
     "text": [
      "<class 'pandas.core.frame.DataFrame'>\n",
      "RangeIndex: 51717 entries, 0 to 51716\n",
      "Data columns (total 10 columns):\n",
      " #   Column                    Non-Null Count  Dtype \n",
      "---  ------                    --------------  ----- \n",
      " 0   name                      51717 non-null  object\n",
      " 1   online_order              51717 non-null  object\n",
      " 2   book_table                51717 non-null  object\n",
      " 3   rate                      43942 non-null  object\n",
      " 4   votes                     51717 non-null  int64 \n",
      " 5   rest_type                 51490 non-null  object\n",
      " 6   cuisines                  51672 non-null  object\n",
      " 7   approx_cost_for_2_People  51371 non-null  object\n",
      " 8   Resturant_type            51717 non-null  object\n",
      " 9   city                      51717 non-null  object\n",
      "dtypes: int64(1), object(9)\n",
      "memory usage: 3.9+ MB\n"
     ]
    }
   ],
   "source": [
    "Zomato_dataset.info()"
   ]
  },
  {
   "cell_type": "code",
   "execution_count": 12,
   "id": "11af277e",
   "metadata": {},
   "outputs": [
    {
     "name": "stdout",
     "output_type": "stream",
     "text": [
      "online_order column has unique values ={'No', 'Yes'}\n",
      "book_table column has unique values ={'No', 'Yes'}\n",
      "rate column has unique values ={nan, '4.5 /5', '4.9 /5', '4.1/5', '2.3 /5', '2.1/5', '3.9/5', 'NEW', '-', '4.1 /5', '3.3/5', '2.8/5', '4.7/5', '2.9/5', '4.5/5', '3.5 /5', '3.6 /5', '4.2 /5', '2.0/5', '4.6 /5', '2.6 /5', '3.4/5', '2.7 /5', '4.0 /5', '2.2/5', '3.2 /5', '1.8/5', '2.1 /5', '2.5/5', '3.4 /5', '2.4/5', '4.8/5', '2.4 /5', '2.2 /5', '3.2/5', '3.6/5', '3.0/5', '2.3/5', '4.8 /5', '3.5/5', '2.9 /5', '4.7 /5', '1.8 /5', '4.2/5', '4.3/5', '2.6/5', '2.5 /5', '4.9/5', '4.4 /5', '3.7/5', '3.9 /5', '2.7/5', '2.0 /5', '3.8 /5', '4.3 /5', '4.4/5', '3.1/5', '3.7 /5', '3.1 /5', '3.3 /5', '3.0 /5', '3.8/5', '2.8 /5', '4.0/5', '4.6/5'}\n",
      "rest_type column has unique values ={nan, 'Casual Dining, Sweet Shop', 'Bakery, Cafe', 'Dessert Parlor, Beverage Shop', 'Cafe, Quick Bites', 'Casual Dining, Pub', 'Sweet Shop', 'Pub, Microbrewery', 'Cafe, Lounge', 'Casual Dining', 'Cafe, Casual Dining', 'Casual Dining, Quick Bites', 'Mess, Quick Bites', 'Pub, Casual Dining', 'Club, Casual Dining', 'Confectionery', 'Delivery', 'Cafe, Bar', 'Microbrewery, Casual Dining', 'Microbrewery', 'Bar, Cafe', 'Beverage Shop, Dessert Parlor', 'Pub, Cafe', 'Bar, Casual Dining', 'Food Court, Quick Bites', 'Club', 'Lounge, Casual Dining', 'Bar', 'Lounge, Bar', 'Bakery, Beverage Shop', 'Quick Bites, Dessert Parlor', 'Bakery', 'Quick Bites, Mess', 'Kiosk', 'Pop Up', 'Bakery, Sweet Shop', 'Quick Bites, Bakery', 'Bakery, Food Court', 'Dessert Parlor, Sweet Shop', 'Quick Bites, Beverage Shop', 'Sweet Shop, Dessert Parlor', 'Casual Dining, Irani Cafee', 'Cafe, Dessert Parlor', 'Takeaway', 'Quick Bites, Cafe', 'Fine Dining', 'Quick Bites, Sweet Shop', 'Pub', 'Beverage Shop, Cafe', 'Food Court, Dessert Parlor', 'Food Court, Beverage Shop', 'Casual Dining, Cafe', 'Dhaba', 'Sweet Shop, Quick Bites', 'Bakery, Dessert Parlor', 'Pub, Bar', 'Food Truck', 'Dessert Parlor, Cafe', 'Quick Bites', 'Fine Dining, Lounge', 'Bar, Lounge', 'Casual Dining, Lounge', 'Lounge, Cafe', 'Food Court', 'Quick Bites, Food Court', 'Mess', 'Bakery, Quick Bites', 'Bhojanalya', 'Cafe, Food Court', 'Quick Bites, Kiosk', 'Dessert Parlor', 'Bakery, Kiosk', 'Fine Dining, Bar', 'Quick Bites, Meat Shop', 'Dessert Parlor, Bakery', 'Food Court, Casual Dining', 'Casual Dining, Microbrewery', 'Microbrewery, Lounge', 'Dessert Parlor, Quick Bites', 'Dessert Parlor, Kiosk', 'Lounge, Microbrewery', 'Cafe, Bakery', 'Microbrewery, Bar', 'Beverage Shop, Quick Bites', 'Bar, Pub', 'Beverage Shop', 'Microbrewery, Pub', 'Cafe', 'Fine Dining, Microbrewery', 'Dessert Parlor, Food Court', 'Bar, Quick Bites', 'Casual Dining, Bar', 'Lounge', 'Takeaway, Delivery'}\n",
      "Resturant_type column has unique values ={'Buffet', 'Pubs and bars', 'Desserts', 'Delivery', 'Cafes', 'Dine-out', 'Drinks & nightlife'}\n",
      "city column has unique values ={'Basavanagudi', 'Kammanahalli', 'Banashankari', 'Frazer Town', 'Kalyan Nagar', 'MG Road', 'Koramangala 4th Block', 'Lavelle Road', 'BTM', 'Koramangala 6th Block', 'Koramangala 7th Block', 'Marathahalli', 'Electronic City', 'Bellandur', 'Jayanagar', 'Indiranagar', 'Koramangala 5th Block', 'JP Nagar', 'Brigade Road', 'Sarjapur Road', 'Brookefield', 'Old Airport Road', 'Bannerghatta Road', 'Residency Road', 'Malleshwaram', 'New BEL Road', 'Whitefield', 'Church Street', 'HSR', 'Rajajinagar'}\n"
     ]
    }
   ],
   "source": [
    "for features in ['online_order','book_table','rate','rest_type','Resturant_type','city']:\n",
    "    print('{} column has unique values ={}'.format(features,set(Zomato_dataset[features].unique())))"
   ]
  },
  {
   "cell_type": "markdown",
   "id": "e277e4f2",
   "metadata": {},
   "source": [
    "Rate Column has objective Datatype and it /5 in each value in some places it conteins '-',nan,NEW "
   ]
  },
  {
   "cell_type": "markdown",
   "id": "41798d79",
   "metadata": {},
   "source": [
    "Remove /5 from Rate column"
   ]
  },
  {
   "cell_type": "code",
   "execution_count": 13,
   "id": "7f7b210c",
   "metadata": {},
   "outputs": [],
   "source": [
    "Zomato_dataset['rate']=Zomato_dataset['rate'].str.replace('/5','')"
   ]
  },
  {
   "cell_type": "code",
   "execution_count": 14,
   "id": "bfd4748a",
   "metadata": {
    "scrolled": true
   },
   "outputs": [
    {
     "data": {
      "text/html": [
       "<div>\n",
       "<style scoped>\n",
       "    .dataframe tbody tr th:only-of-type {\n",
       "        vertical-align: middle;\n",
       "    }\n",
       "\n",
       "    .dataframe tbody tr th {\n",
       "        vertical-align: top;\n",
       "    }\n",
       "\n",
       "    .dataframe thead th {\n",
       "        text-align: right;\n",
       "    }\n",
       "</style>\n",
       "<table border=\"1\" class=\"dataframe\">\n",
       "  <thead>\n",
       "    <tr style=\"text-align: right;\">\n",
       "      <th></th>\n",
       "      <th>name</th>\n",
       "      <th>online_order</th>\n",
       "      <th>book_table</th>\n",
       "      <th>rate</th>\n",
       "      <th>votes</th>\n",
       "      <th>rest_type</th>\n",
       "      <th>cuisines</th>\n",
       "      <th>approx_cost_for_2_People</th>\n",
       "      <th>Resturant_type</th>\n",
       "      <th>city</th>\n",
       "    </tr>\n",
       "  </thead>\n",
       "  <tbody>\n",
       "    <tr>\n",
       "      <th>0</th>\n",
       "      <td>Jalsa</td>\n",
       "      <td>Yes</td>\n",
       "      <td>Yes</td>\n",
       "      <td>4.1</td>\n",
       "      <td>775</td>\n",
       "      <td>Casual Dining</td>\n",
       "      <td>North Indian, Mughlai, Chinese</td>\n",
       "      <td>800</td>\n",
       "      <td>Buffet</td>\n",
       "      <td>Banashankari</td>\n",
       "    </tr>\n",
       "    <tr>\n",
       "      <th>1</th>\n",
       "      <td>Spice Elephant</td>\n",
       "      <td>Yes</td>\n",
       "      <td>No</td>\n",
       "      <td>4.1</td>\n",
       "      <td>787</td>\n",
       "      <td>Casual Dining</td>\n",
       "      <td>Chinese, North Indian, Thai</td>\n",
       "      <td>800</td>\n",
       "      <td>Buffet</td>\n",
       "      <td>Banashankari</td>\n",
       "    </tr>\n",
       "    <tr>\n",
       "      <th>2</th>\n",
       "      <td>San Churro Cafe</td>\n",
       "      <td>Yes</td>\n",
       "      <td>No</td>\n",
       "      <td>3.8</td>\n",
       "      <td>918</td>\n",
       "      <td>Cafe, Casual Dining</td>\n",
       "      <td>Cafe, Mexican, Italian</td>\n",
       "      <td>800</td>\n",
       "      <td>Buffet</td>\n",
       "      <td>Banashankari</td>\n",
       "    </tr>\n",
       "    <tr>\n",
       "      <th>3</th>\n",
       "      <td>Addhuri Udupi Bhojana</td>\n",
       "      <td>No</td>\n",
       "      <td>No</td>\n",
       "      <td>3.7</td>\n",
       "      <td>88</td>\n",
       "      <td>Quick Bites</td>\n",
       "      <td>South Indian, North Indian</td>\n",
       "      <td>300</td>\n",
       "      <td>Buffet</td>\n",
       "      <td>Banashankari</td>\n",
       "    </tr>\n",
       "    <tr>\n",
       "      <th>4</th>\n",
       "      <td>Grand Village</td>\n",
       "      <td>No</td>\n",
       "      <td>No</td>\n",
       "      <td>3.8</td>\n",
       "      <td>166</td>\n",
       "      <td>Casual Dining</td>\n",
       "      <td>North Indian, Rajasthani</td>\n",
       "      <td>600</td>\n",
       "      <td>Buffet</td>\n",
       "      <td>Banashankari</td>\n",
       "    </tr>\n",
       "  </tbody>\n",
       "</table>\n",
       "</div>"
      ],
      "text/plain": [
       "                    name online_order book_table rate  votes  \\\n",
       "0                  Jalsa          Yes        Yes  4.1    775   \n",
       "1         Spice Elephant          Yes         No  4.1    787   \n",
       "2        San Churro Cafe          Yes         No  3.8    918   \n",
       "3  Addhuri Udupi Bhojana           No         No  3.7     88   \n",
       "4          Grand Village           No         No  3.8    166   \n",
       "\n",
       "             rest_type                        cuisines  \\\n",
       "0        Casual Dining  North Indian, Mughlai, Chinese   \n",
       "1        Casual Dining     Chinese, North Indian, Thai   \n",
       "2  Cafe, Casual Dining          Cafe, Mexican, Italian   \n",
       "3          Quick Bites      South Indian, North Indian   \n",
       "4        Casual Dining        North Indian, Rajasthani   \n",
       "\n",
       "  approx_cost_for_2_People Resturant_type          city  \n",
       "0                      800         Buffet  Banashankari  \n",
       "1                      800         Buffet  Banashankari  \n",
       "2                      800         Buffet  Banashankari  \n",
       "3                      300         Buffet  Banashankari  \n",
       "4                      600         Buffet  Banashankari  "
      ]
     },
     "execution_count": 14,
     "metadata": {},
     "output_type": "execute_result"
    }
   ],
   "source": [
    "Zomato_dataset.head()"
   ]
  },
  {
   "cell_type": "markdown",
   "id": "4fd0a3e0",
   "metadata": {},
   "source": [
    "Fill all mising values in zomato rate column "
   ]
  },
  {
   "cell_type": "code",
   "execution_count": 15,
   "id": "55255334",
   "metadata": {},
   "outputs": [],
   "source": [
    "Zomato_dataset['rate']=Zomato_dataset['rate'].fillna('NEW')\n"
   ]
  },
  {
   "cell_type": "code",
   "execution_count": 16,
   "id": "e0f0a063",
   "metadata": {},
   "outputs": [
    {
     "data": {
      "text/plain": [
       "0"
      ]
     },
     "execution_count": 16,
     "metadata": {},
     "output_type": "execute_result"
    }
   ],
   "source": [
    "Zomato_dataset['rate'].isnull().sum()"
   ]
  },
  {
   "cell_type": "code",
   "execution_count": 17,
   "id": "657a5851",
   "metadata": {},
   "outputs": [
    {
     "data": {
      "text/plain": [
       "array(['4.1', '3.8', '3.7', '3.6', '4.6', '4.0', '4.2', '3.9', '3.1',\n",
       "       '3.0', '3.2', '3.3', '2.8', '4.4', '4.3', 'NEW', '2.9', '3.5',\n",
       "       '2.6', '3.8 ', '3.4', '4.5', '2.5', '2.7', '4.7', '2.4', '2.2',\n",
       "       '2.3', '3.4 ', '-', '3.6 ', '4.8', '3.9 ', '4.2 ', '4.0 ', '4.1 ',\n",
       "       '3.7 ', '3.1 ', '2.9 ', '3.3 ', '2.8 ', '3.5 ', '2.7 ', '2.5 ',\n",
       "       '3.2 ', '2.6 ', '4.5 ', '4.3 ', '4.4 ', '4.9', '2.1', '2.0', '1.8',\n",
       "       '4.6 ', '4.9 ', '3.0 ', '4.8 ', '2.3 ', '4.7 ', '2.4 ', '2.1 ',\n",
       "       '2.2 ', '2.0 ', '1.8 '], dtype=object)"
      ]
     },
     "execution_count": 17,
     "metadata": {},
     "output_type": "execute_result"
    }
   ],
   "source": [
    "Zomato_dataset['rate'].unique()"
   ]
  },
  {
   "cell_type": "markdown",
   "id": "48c02fca",
   "metadata": {},
   "source": [
    "Make a list of index number contain NEW or '-' in rate column"
   ]
  },
  {
   "cell_type": "code",
   "execution_count": 18,
   "id": "c866ebe7",
   "metadata": {},
   "outputs": [],
   "source": [
    "l=[]\n",
    "for rate in range(len(Zomato_dataset)) :\n",
    "    if Zomato_dataset.rate[rate] =='NEW' or Zomato_dataset.rate[rate]=='-':\n",
    "         l.append(rate)\n",
    "        "
   ]
  },
  {
   "cell_type": "code",
   "execution_count": 19,
   "id": "fa01e6f8",
   "metadata": {},
   "outputs": [
    {
     "data": {
      "text/plain": [
       "(51717, 10)"
      ]
     },
     "execution_count": 19,
     "metadata": {},
     "output_type": "execute_result"
    }
   ],
   "source": [
    "Zomato_dataset.shape"
   ]
  },
  {
   "cell_type": "markdown",
   "id": "3b516cfe",
   "metadata": {},
   "source": [
    "drop all the rows with the index of l"
   ]
  },
  {
   "cell_type": "code",
   "execution_count": 20,
   "id": "6921d54f",
   "metadata": {},
   "outputs": [
    {
     "data": {
      "text/plain": [
       "(41665, 10)"
      ]
     },
     "execution_count": 20,
     "metadata": {},
     "output_type": "execute_result"
    }
   ],
   "source": [
    "Zomato_dataset.drop(l,inplace=True)\n",
    "Zomato_dataset.shape"
   ]
  },
  {
   "cell_type": "code",
   "execution_count": 21,
   "id": "c767d07d",
   "metadata": {},
   "outputs": [
    {
     "data": {
      "text/plain": [
       "array(['4.1', '3.8', '3.7', '3.6', '4.6', '4.0', '4.2', '3.9', '3.1',\n",
       "       '3.0', '3.2', '3.3', '2.8', '4.4', '4.3', '2.9', '3.5', '2.6',\n",
       "       '3.8 ', '3.4', '4.5', '2.5', '2.7', '4.7', '2.4', '2.2', '2.3',\n",
       "       '3.4 ', '3.6 ', '4.8', '3.9 ', '4.2 ', '4.0 ', '4.1 ', '3.7 ',\n",
       "       '3.1 ', '2.9 ', '3.3 ', '2.8 ', '3.5 ', '2.7 ', '2.5 ', '3.2 ',\n",
       "       '2.6 ', '4.5 ', '4.3 ', '4.4 ', '4.9', '2.1', '2.0', '1.8', '4.6 ',\n",
       "       '4.9 ', '3.0 ', '4.8 ', '2.3 ', '4.7 ', '2.4 ', '2.1 ', '2.2 ',\n",
       "       '2.0 ', '1.8 '], dtype=object)"
      ]
     },
     "execution_count": 21,
     "metadata": {},
     "output_type": "execute_result"
    }
   ],
   "source": [
    "Zomato_dataset['rate'].unique()"
   ]
  },
  {
   "cell_type": "markdown",
   "id": "056b9b87",
   "metadata": {},
   "source": [
    "Change the datatype of rate column from Object to numeric"
   ]
  },
  {
   "cell_type": "code",
   "execution_count": 22,
   "id": "395f871a",
   "metadata": {},
   "outputs": [],
   "source": [
    "Zomato_dataset['rate']=pd.to_numeric(Zomato_dataset['rate'])"
   ]
  },
  {
   "cell_type": "code",
   "execution_count": 23,
   "id": "3f57e5e5",
   "metadata": {},
   "outputs": [
    {
     "name": "stdout",
     "output_type": "stream",
     "text": [
      "<class 'pandas.core.frame.DataFrame'>\n",
      "Int64Index: 41665 entries, 0 to 51716\n",
      "Data columns (total 10 columns):\n",
      " #   Column                    Non-Null Count  Dtype  \n",
      "---  ------                    --------------  -----  \n",
      " 0   name                      41665 non-null  object \n",
      " 1   online_order              41665 non-null  object \n",
      " 2   book_table                41665 non-null  object \n",
      " 3   rate                      41665 non-null  float64\n",
      " 4   votes                     41665 non-null  int64  \n",
      " 5   rest_type                 41516 non-null  object \n",
      " 6   cuisines                  41654 non-null  object \n",
      " 7   approx_cost_for_2_People  41418 non-null  object \n",
      " 8   Resturant_type            41665 non-null  object \n",
      " 9   city                      41665 non-null  object \n",
      "dtypes: float64(1), int64(1), object(8)\n",
      "memory usage: 3.5+ MB\n"
     ]
    }
   ],
   "source": [
    "Zomato_dataset.info()"
   ]
  },
  {
   "cell_type": "code",
   "execution_count": 24,
   "id": "f5769956",
   "metadata": {},
   "outputs": [
    {
     "data": {
      "text/plain": [
       "name                        0.000000\n",
       "online_order                0.000000\n",
       "book_table                  0.000000\n",
       "rate                        0.000000\n",
       "votes                       0.000000\n",
       "rest_type                   0.357614\n",
       "cuisines                    0.026401\n",
       "approx_cost_for_2_People    0.592824\n",
       "Resturant_type              0.000000\n",
       "city                        0.000000\n",
       "dtype: float64"
      ]
     },
     "execution_count": 24,
     "metadata": {},
     "output_type": "execute_result"
    }
   ],
   "source": [
    "Zomato_dataset.isnull().mean()*100"
   ]
  },
  {
   "cell_type": "markdown",
   "id": "1c9ebb08",
   "metadata": {},
   "source": [
    "Remove ',' from approx_cost_for_2_People columns"
   ]
  },
  {
   "cell_type": "code",
   "execution_count": 25,
   "id": "bb8b184e",
   "metadata": {},
   "outputs": [],
   "source": [
    "Zomato_dataset['approx_cost_for_2_People']=Zomato_dataset['approx_cost_for_2_People'].str.replace(',','')"
   ]
  },
  {
   "cell_type": "markdown",
   "id": "f8bf1764",
   "metadata": {},
   "source": [
    "Change the datatype of approx_cost_for_2_People column from Object to numeric"
   ]
  },
  {
   "cell_type": "code",
   "execution_count": 26,
   "id": "b9394d4d",
   "metadata": {},
   "outputs": [],
   "source": [
    "Zomato_dataset['approx_cost_for_2_People']=pd.to_numeric(Zomato_dataset['approx_cost_for_2_People'])"
   ]
  },
  {
   "cell_type": "markdown",
   "id": "6bc5eb39",
   "metadata": {},
   "source": [
    "fill the NaN values in the approx_cost_for_2_People with there mean values"
   ]
  },
  {
   "cell_type": "code",
   "execution_count": 27,
   "id": "6c186ae0",
   "metadata": {},
   "outputs": [],
   "source": [
    "Zomato_dataset['approx_cost_for_2_People'].fillna(Zomato_dataset['approx_cost_for_2_People'].mean(),inplace=True)"
   ]
  },
  {
   "cell_type": "code",
   "execution_count": 28,
   "id": "9a5b42a9",
   "metadata": {},
   "outputs": [
    {
     "data": {
      "text/plain": [
       "name                        0.000000\n",
       "online_order                0.000000\n",
       "book_table                  0.000000\n",
       "rate                        0.000000\n",
       "votes                       0.000000\n",
       "rest_type                   0.357614\n",
       "cuisines                    0.026401\n",
       "approx_cost_for_2_People    0.000000\n",
       "Resturant_type              0.000000\n",
       "city                        0.000000\n",
       "dtype: float64"
      ]
     },
     "execution_count": 28,
     "metadata": {},
     "output_type": "execute_result"
    }
   ],
   "source": [
    "Zomato_dataset.isnull().mean()*100"
   ]
  },
  {
   "cell_type": "markdown",
   "id": "3c514856",
   "metadata": {},
   "source": [
    "Remove the NaN Rows of the columns rest_type,cuisines Having NaN values about 0.35 % and 0.026%"
   ]
  },
  {
   "cell_type": "code",
   "execution_count": 29,
   "id": "8f4a4ae8",
   "metadata": {},
   "outputs": [],
   "source": [
    "Zomato_dataset['rest_type']=Zomato_dataset['rest_type'].fillna('NEW')\n",
    "\n",
    "Zomato_dataset['cuisines']=Zomato_dataset['cuisines'].fillna('NEW')"
   ]
  },
  {
   "cell_type": "code",
   "execution_count": 30,
   "id": "d4c8c193",
   "metadata": {},
   "outputs": [
    {
     "data": {
      "text/plain": [
       "name                        0.0\n",
       "online_order                0.0\n",
       "book_table                  0.0\n",
       "rate                        0.0\n",
       "votes                       0.0\n",
       "rest_type                   0.0\n",
       "cuisines                    0.0\n",
       "approx_cost_for_2_People    0.0\n",
       "Resturant_type              0.0\n",
       "city                        0.0\n",
       "dtype: float64"
      ]
     },
     "execution_count": 30,
     "metadata": {},
     "output_type": "execute_result"
    }
   ],
   "source": [
    "Zomato_dataset.isnull().mean()*100"
   ]
  },
  {
   "cell_type": "markdown",
   "id": "0b082bce",
   "metadata": {},
   "source": [
    "# rate vs online_order"
   ]
  },
  {
   "cell_type": "code",
   "execution_count": 31,
   "id": "a76eca25",
   "metadata": {},
   "outputs": [
    {
     "data": {
      "text/plain": [
       "<AxesSubplot:xlabel='online_order', ylabel='rate'>"
      ]
     },
     "execution_count": 31,
     "metadata": {},
     "output_type": "execute_result"
    },
    {
     "data": {
      "image/png": "[encoded data removed]",
      "text/plain": [
       "<Figure size 640x480 with 1 Axes>"
      ]
     },
     "metadata": {},
     "output_type": "display_data"
    }
   ],
   "source": [
    "sns.scatterplot(x='online_order',y='rate',data=Zomato_dataset)"
   ]
  },
  {
   "cell_type": "code",
   "execution_count": 32,
   "id": "2c2a4199",
   "metadata": {},
   "outputs": [
    {
     "data": {
      "text/plain": [
       "<AxesSubplot:xlabel='online_order', ylabel='Count'>"
      ]
     },
     "execution_count": 32,
     "metadata": {},
     "output_type": "execute_result"
    },
    {
     "data": {
      "image/png": "[encoded data removed]",
      "text/plain": [
       "<Figure size 640x480 with 1 Axes>"
      ]
     },
     "metadata": {},
     "output_type": "display_data"
    }
   ],
   "source": [
    "sns.histplot(x='online_order',data=Zomato_dataset,)"
   ]
  },
  {
   "cell_type": "markdown",
   "id": "0c72a75e",
   "metadata": {},
   "source": [
    "Resturant having Online order doesnot get rating below 2 but The resturant which doesnot have Online order facility have rating below 2"
   ]
  },
  {
   "cell_type": "markdown",
   "id": "e459df00",
   "metadata": {},
   "source": [
    "Around 26000 resturant have online Order facility and Around 14000 Resturant does not have Online order facility"
   ]
  },
  {
   "cell_type": "markdown",
   "id": "2195598e",
   "metadata": {},
   "source": [
    "# rate vs Book_table"
   ]
  },
  {
   "cell_type": "code",
   "execution_count": 33,
   "id": "53b0098e",
   "metadata": {},
   "outputs": [
    {
     "data": {
      "text/plain": [
       "<AxesSubplot:xlabel='book_table', ylabel='rate'>"
      ]
     },
     "execution_count": 33,
     "metadata": {},
     "output_type": "execute_result"
    },
    {
     "data": {
      "image/png": "[encoded data removed]",
      "text/plain": [
       "<Figure size 640x480 with 1 Axes>"
      ]
     },
     "metadata": {},
     "output_type": "display_data"
    }
   ],
   "source": [
    "sns.scatterplot(x='book_table',y='rate',data=Zomato_dataset)"
   ]
  },
  {
   "cell_type": "code",
   "execution_count": 34,
   "id": "0ebb9201",
   "metadata": {},
   "outputs": [
    {
     "data": {
      "text/plain": [
       "<AxesSubplot:xlabel='book_table', ylabel='Count'>"
      ]
     },
     "execution_count": 34,
     "metadata": {},
     "output_type": "execute_result"
    },
    {
     "data": {
      "image/png": "[encoded data removed]",
      "text/plain": [
       "<Figure size 640x480 with 1 Axes>"
      ]
     },
     "metadata": {},
     "output_type": "display_data"
    }
   ],
   "source": [
    "sns.histplot(x='book_table',data=Zomato_dataset)"
   ]
  },
  {
   "cell_type": "markdown",
   "id": "b1a8dbfc",
   "metadata": {},
   "source": [
    "Resturant having Online order doesnot get rating below 2.5 but The resturant which doesnot have Online order facility have rating below 2.5"
   ]
  },
  {
   "cell_type": "markdown",
   "id": "eef19e6d",
   "metadata": {},
   "source": [
    "Around 6000 resturant have online Order facility and Around 35000 Resturant does not have Online order facility"
   ]
  },
  {
   "cell_type": "markdown",
   "id": "a253800d",
   "metadata": {},
   "source": [
    "# Number of Resturant in the City"
   ]
  },
  {
   "cell_type": "code",
   "execution_count": 35,
   "id": "cda9bce1",
   "metadata": {},
   "outputs": [
    {
     "data": {
      "text/plain": [
       "Text(0.5, 1.0, 'NO. of restaurants in a city')"
      ]
     },
     "execution_count": 35,
     "metadata": {},
     "output_type": "execute_result"
    },
    {
     "data": {
      "image/png": "[encoded data removed]",
      "text/plain": [
       "<Figure size 2000x1000 with 1 Axes>"
      ]
     },
     "metadata": {},
     "output_type": "display_data"
    }
   ],
   "source": [
    "fig = plt.figure(figsize=(20,10))\n",
    "loc = sns.countplot(x=\"city\",data=Zomato_dataset, palette = \"Set1\")\n",
    "loc.set_xticklabels(loc.get_xticklabels(), rotation=90, ha=\"right\")\n",
    "plt.ylabel(\"Frequency\",size=15)\n",
    "plt.xlabel(\"city\",size=15)\n",
    "loc\n",
    "plt.title('NO. of restaurants in a city',size = 20,pad=20)"
   ]
  },
  {
   "cell_type": "markdown",
   "id": "a9d20a3e",
   "metadata": {},
   "source": [
    "# Top 20 famouse Resturants"
   ]
  },
  {
   "cell_type": "code",
   "execution_count": 36,
   "id": "6d123159",
   "metadata": {},
   "outputs": [
    {
     "data": {
      "text/plain": [
       "Text(0.5, 0, 'Number of outlets')"
      ]
     },
     "execution_count": 36,
     "metadata": {},
     "output_type": "execute_result"
    },
    {
     "data": {
      "image/png": "[encoded data removed]",
      "text/plain": [
       "<Figure size 1500x1000 with 1 Axes>"
      ]
     },
     "metadata": {},
     "output_type": "display_data"
    }
   ],
   "source": [
    "plt.figure(figsize=(15,10))\n",
    "Resturant_Name=Zomato_dataset['name'].value_counts()[:20]\n",
    "sns.barplot(x=Resturant_Name,y=Resturant_Name.index,palette='Set1')\n",
    "plt.title(\"Most famous Resturants\",size=20,pad=20)\n",
    "plt.xlabel(\"Number of outlets\",size=15)"
   ]
  },
  {
   "cell_type": "markdown",
   "id": "732912c5",
   "metadata": {},
   "source": [
    "# Percentage of Type Of Resturants"
   ]
  },
  {
   "cell_type": "code",
   "execution_count": 37,
   "id": "17ecdba1",
   "metadata": {},
   "outputs": [
    {
     "data": {
      "text/plain": [
       "Text(0.5, 1.0, 'Percentage of Restaurants according to their type')"
      ]
     },
     "execution_count": 37,
     "metadata": {},
     "output_type": "execute_result"
    },
    {
     "data": {
      "image/png": "[encoded data removed]",
      "text/plain": [
       "<Figure size 500x500 with 1 Axes>"
      ]
     },
     "metadata": {},
     "output_type": "display_data"
    }
   ],
   "source": [
    "plt.figure(figsize=(5,5))\n",
    "restaurantTypeCount=Zomato_dataset['rest_type'].value_counts().sort_values(ascending=True)\n",
    "slices=[restaurantTypeCount[0],\n",
    "        restaurantTypeCount[1],\n",
    "        restaurantTypeCount[2],\n",
    "        restaurantTypeCount[3],\n",
    "        restaurantTypeCount[4],\n",
    "        restaurantTypeCount[5],\n",
    "        restaurantTypeCount[6],\n",
    "        restaurantTypeCount[7],\n",
    "        restaurantTypeCount[8]]\n",
    "labels=['Pubs and bars','Buffet','Drinks & nightlife','Cafes','Desserts','Dine-out','Delivery ','Quick Bites','Bakery']\n",
    "plt.pie(slices, labels=labels, autopct='%1.0f%%', pctdistance=.5, labeldistance=1.2,shadow=True)\n",
    "fig = plt.gcf()\n",
    "plt.title(\"Percentage of Restaurants according to their type\")"
   ]
  },
  {
   "cell_type": "markdown",
   "id": "7cc46ac3",
   "metadata": {},
   "source": [
    "# Approx cost for 2 people "
   ]
  },
  {
   "cell_type": "code",
   "execution_count": 38,
   "id": "523ee803",
   "metadata": {},
   "outputs": [
    {
     "data": {
      "text/plain": [
       "<AxesSubplot:xlabel='approx_cost_for_2_People', ylabel='Density'>"
      ]
     },
     "execution_count": 38,
     "metadata": {},
     "output_type": "execute_result"
    },
    {
     "data": {
      "image/png": "[encoded data removed]",
      "text/plain": [
       "<Figure size 640x480 with 1 Axes>"
      ]
     },
     "metadata": {},
     "output_type": "display_data"
    }
   ],
   "source": [
    "sns.distplot(Zomato_dataset['approx_cost_for_2_People'])"
   ]
  },
  {
   "cell_type": "markdown",
   "id": "8cc75f56",
   "metadata": {},
   "source": [
    "Most of the Resturant have apporox_cost_for_2_people arround 600"
   ]
  },
  {
   "cell_type": "markdown",
   "id": "5c7f76f1",
   "metadata": {},
   "source": [
    "# Resturant rating Distribution"
   ]
  },
  {
   "cell_type": "code",
   "execution_count": 39,
   "id": "b069f8df",
   "metadata": {},
   "outputs": [
    {
     "data": {
      "text/plain": [
       "<AxesSubplot:xlabel='rate', ylabel='Density'>"
      ]
     },
     "execution_count": 39,
     "metadata": {},
     "output_type": "execute_result"
    },
    {
     "data": {
      "image/png": "[encoded data removed]",
      "text/plain": [
       "<Figure size 640x480 with 1 Axes>"
      ]
     },
     "metadata": {},
     "output_type": "display_data"
    }
   ],
   "source": [
    "sns.distplot(Zomato_dataset['rate'])"
   ]
  },
  {
   "cell_type": "code",
   "execution_count": 40,
   "id": "e8f367db",
   "metadata": {},
   "outputs": [
    {
     "name": "stdout",
     "output_type": "stream",
     "text": [
      "<class 'pandas.core.frame.DataFrame'>\n",
      "Int64Index: 41665 entries, 0 to 51716\n",
      "Data columns (total 10 columns):\n",
      " #   Column                    Non-Null Count  Dtype  \n",
      "---  ------                    --------------  -----  \n",
      " 0   name                      41665 non-null  object \n",
      " 1   online_order              41665 non-null  object \n",
      " 2   book_table                41665 non-null  object \n",
      " 3   rate                      41665 non-null  float64\n",
      " 4   votes                     41665 non-null  int64  \n",
      " 5   rest_type                 41665 non-null  object \n",
      " 6   cuisines                  41665 non-null  object \n",
      " 7   approx_cost_for_2_People  41665 non-null  float64\n",
      " 8   Resturant_type            41665 non-null  object \n",
      " 9   city                      41665 non-null  object \n",
      "dtypes: float64(2), int64(1), object(7)\n",
      "memory usage: 3.5+ MB\n"
     ]
    }
   ],
   "source": [
    "Zomato_dataset.info()"
   ]
  },
  {
   "cell_type": "markdown",
   "id": "ccd87052",
   "metadata": {},
   "source": [
    "# Convert the categorical data to the numerical data"
   ]
  },
  {
   "cell_type": "code",
   "execution_count": 41,
   "id": "a2939f1c",
   "metadata": {},
   "outputs": [
    {
     "data": {
      "text/html": [
       "<div>\n",
       "<style scoped>\n",
       "    .dataframe tbody tr th:only-of-type {\n",
       "        vertical-align: middle;\n",
       "    }\n",
       "\n",
       "    .dataframe tbody tr th {\n",
       "        vertical-align: top;\n",
       "    }\n",
       "\n",
       "    .dataframe thead th {\n",
       "        text-align: right;\n",
       "    }\n",
       "</style>\n",
       "<table border=\"1\" class=\"dataframe\">\n",
       "  <thead>\n",
       "    <tr style=\"text-align: right;\">\n",
       "      <th></th>\n",
       "      <th>name</th>\n",
       "      <th>online_order</th>\n",
       "      <th>book_table</th>\n",
       "      <th>rate</th>\n",
       "      <th>votes</th>\n",
       "      <th>rest_type</th>\n",
       "      <th>cuisines</th>\n",
       "      <th>approx_cost_for_2_People</th>\n",
       "      <th>Resturant_type</th>\n",
       "      <th>city</th>\n",
       "    </tr>\n",
       "  </thead>\n",
       "  <tbody>\n",
       "    <tr>\n",
       "      <th>0</th>\n",
       "      <td>Jalsa</td>\n",
       "      <td>Yes</td>\n",
       "      <td>Yes</td>\n",
       "      <td>4.1</td>\n",
       "      <td>775</td>\n",
       "      <td>Casual Dining</td>\n",
       "      <td>North Indian, Mughlai, Chinese</td>\n",
       "      <td>800.0</td>\n",
       "      <td>Buffet</td>\n",
       "      <td>Banashankari</td>\n",
       "    </tr>\n",
       "    <tr>\n",
       "      <th>1</th>\n",
       "      <td>Spice Elephant</td>\n",
       "      <td>Yes</td>\n",
       "      <td>No</td>\n",
       "      <td>4.1</td>\n",
       "      <td>787</td>\n",
       "      <td>Casual Dining</td>\n",
       "      <td>Chinese, North Indian, Thai</td>\n",
       "      <td>800.0</td>\n",
       "      <td>Buffet</td>\n",
       "      <td>Banashankari</td>\n",
       "    </tr>\n",
       "    <tr>\n",
       "      <th>2</th>\n",
       "      <td>San Churro Cafe</td>\n",
       "      <td>Yes</td>\n",
       "      <td>No</td>\n",
       "      <td>3.8</td>\n",
       "      <td>918</td>\n",
       "      <td>Cafe, Casual Dining</td>\n",
       "      <td>Cafe, Mexican, Italian</td>\n",
       "      <td>800.0</td>\n",
       "      <td>Buffet</td>\n",
       "      <td>Banashankari</td>\n",
       "    </tr>\n",
       "    <tr>\n",
       "      <th>3</th>\n",
       "      <td>Addhuri Udupi Bhojana</td>\n",
       "      <td>No</td>\n",
       "      <td>No</td>\n",
       "      <td>3.7</td>\n",
       "      <td>88</td>\n",
       "      <td>Quick Bites</td>\n",
       "      <td>South Indian, North Indian</td>\n",
       "      <td>300.0</td>\n",
       "      <td>Buffet</td>\n",
       "      <td>Banashankari</td>\n",
       "    </tr>\n",
       "    <tr>\n",
       "      <th>4</th>\n",
       "      <td>Grand Village</td>\n",
       "      <td>No</td>\n",
       "      <td>No</td>\n",
       "      <td>3.8</td>\n",
       "      <td>166</td>\n",
       "      <td>Casual Dining</td>\n",
       "      <td>North Indian, Rajasthani</td>\n",
       "      <td>600.0</td>\n",
       "      <td>Buffet</td>\n",
       "      <td>Banashankari</td>\n",
       "    </tr>\n",
       "  </tbody>\n",
       "</table>\n",
       "</div>"
      ],
      "text/plain": [
       "                    name online_order book_table  rate  votes  \\\n",
       "0                  Jalsa          Yes        Yes   4.1    775   \n",
       "1         Spice Elephant          Yes         No   4.1    787   \n",
       "2        San Churro Cafe          Yes         No   3.8    918   \n",
       "3  Addhuri Udupi Bhojana           No         No   3.7     88   \n",
       "4          Grand Village           No         No   3.8    166   \n",
       "\n",
       "             rest_type                        cuisines  \\\n",
       "0        Casual Dining  North Indian, Mughlai, Chinese   \n",
       "1        Casual Dining     Chinese, North Indian, Thai   \n",
       "2  Cafe, Casual Dining          Cafe, Mexican, Italian   \n",
       "3          Quick Bites      South Indian, North Indian   \n",
       "4        Casual Dining        North Indian, Rajasthani   \n",
       "\n",
       "   approx_cost_for_2_People Resturant_type          city  \n",
       "0                     800.0         Buffet  Banashankari  \n",
       "1                     800.0         Buffet  Banashankari  \n",
       "2                     800.0         Buffet  Banashankari  \n",
       "3                     300.0         Buffet  Banashankari  \n",
       "4                     600.0         Buffet  Banashankari  "
      ]
     },
     "execution_count": 41,
     "metadata": {},
     "output_type": "execute_result"
    }
   ],
   "source": [
    "from sklearn.preprocessing import LabelEncoder\n",
    "lable=LabelEncoder()\n",
    "New_df=Zomato_dataset.copy()\n",
    "New_df.head()"
   ]
  },
  {
   "cell_type": "code",
   "execution_count": 42,
   "id": "e8f916d1",
   "metadata": {
    "scrolled": true
   },
   "outputs": [
    {
     "data": {
      "text/html": [
       "<div>\n",
       "<style scoped>\n",
       "    .dataframe tbody tr th:only-of-type {\n",
       "        vertical-align: middle;\n",
       "    }\n",
       "\n",
       "    .dataframe tbody tr th {\n",
       "        vertical-align: top;\n",
       "    }\n",
       "\n",
       "    .dataframe thead th {\n",
       "        text-align: right;\n",
       "    }\n",
       "</style>\n",
       "<table border=\"1\" class=\"dataframe\">\n",
       "  <thead>\n",
       "    <tr style=\"text-align: right;\">\n",
       "      <th></th>\n",
       "      <th>name</th>\n",
       "      <th>online_order</th>\n",
       "      <th>book_table</th>\n",
       "      <th>rate</th>\n",
       "      <th>votes</th>\n",
       "      <th>rest_type</th>\n",
       "      <th>cuisines</th>\n",
       "      <th>approx_cost_for_2_People</th>\n",
       "      <th>Resturant_type</th>\n",
       "      <th>city</th>\n",
       "    </tr>\n",
       "  </thead>\n",
       "  <tbody>\n",
       "    <tr>\n",
       "      <th>0</th>\n",
       "      <td>Jalsa</td>\n",
       "      <td>1</td>\n",
       "      <td>1</td>\n",
       "      <td>4.1</td>\n",
       "      <td>775</td>\n",
       "      <td>24</td>\n",
       "      <td>1909</td>\n",
       "      <td>800.0</td>\n",
       "      <td>0</td>\n",
       "      <td>1</td>\n",
       "    </tr>\n",
       "    <tr>\n",
       "      <th>1</th>\n",
       "      <td>Spice Elephant</td>\n",
       "      <td>1</td>\n",
       "      <td>0</td>\n",
       "      <td>4.1</td>\n",
       "      <td>787</td>\n",
       "      <td>24</td>\n",
       "      <td>820</td>\n",
       "      <td>800.0</td>\n",
       "      <td>0</td>\n",
       "      <td>1</td>\n",
       "    </tr>\n",
       "    <tr>\n",
       "      <th>2</th>\n",
       "      <td>San Churro Cafe</td>\n",
       "      <td>1</td>\n",
       "      <td>0</td>\n",
       "      <td>3.8</td>\n",
       "      <td>918</td>\n",
       "      <td>19</td>\n",
       "      <td>657</td>\n",
       "      <td>800.0</td>\n",
       "      <td>0</td>\n",
       "      <td>1</td>\n",
       "    </tr>\n",
       "    <tr>\n",
       "      <th>3</th>\n",
       "      <td>Addhuri Udupi Bhojana</td>\n",
       "      <td>0</td>\n",
       "      <td>0</td>\n",
       "      <td>3.7</td>\n",
       "      <td>88</td>\n",
       "      <td>74</td>\n",
       "      <td>2237</td>\n",
       "      <td>300.0</td>\n",
       "      <td>0</td>\n",
       "      <td>1</td>\n",
       "    </tr>\n",
       "    <tr>\n",
       "      <th>4</th>\n",
       "      <td>Grand Village</td>\n",
       "      <td>0</td>\n",
       "      <td>0</td>\n",
       "      <td>3.8</td>\n",
       "      <td>166</td>\n",
       "      <td>24</td>\n",
       "      <td>1936</td>\n",
       "      <td>600.0</td>\n",
       "      <td>0</td>\n",
       "      <td>1</td>\n",
       "    </tr>\n",
       "  </tbody>\n",
       "</table>\n",
       "</div>"
      ],
      "text/plain": [
       "                    name  online_order  book_table  rate  votes  rest_type  \\\n",
       "0                  Jalsa             1           1   4.1    775         24   \n",
       "1         Spice Elephant             1           0   4.1    787         24   \n",
       "2        San Churro Cafe             1           0   3.8    918         19   \n",
       "3  Addhuri Udupi Bhojana             0           0   3.7     88         74   \n",
       "4          Grand Village             0           0   3.8    166         24   \n",
       "\n",
       "   cuisines  approx_cost_for_2_People  Resturant_type  city  \n",
       "0      1909                     800.0               0     1  \n",
       "1       820                     800.0               0     1  \n",
       "2       657                     800.0               0     1  \n",
       "3      2237                     300.0               0     1  \n",
       "4      1936                     600.0               0     1  "
      ]
     },
     "execution_count": 42,
     "metadata": {},
     "output_type": "execute_result"
    }
   ],
   "source": [
    "list1=['online_order','book_table','rest_type','cuisines','city','Resturant_type']\n",
    "for i in list1:\n",
    "    New_df[i]=lable.fit_transform(New_df[i])\n",
    "\n",
    "New_df.head()"
   ]
  },
  {
   "cell_type": "code",
   "execution_count": 43,
   "id": "cd7f690d",
   "metadata": {
    "scrolled": true
   },
   "outputs": [
    {
     "data": {
      "text/plain": [
       "<AxesSubplot:>"
      ]
     },
     "execution_count": 43,
     "metadata": {},
     "output_type": "execute_result"
    },
    {
     "data": {
      "image/png": "[encoded data removed]",
      "text/plain": [
       "<Figure size 1500x700 with 2 Axes>"
      ]
     },
     "metadata": {},
     "output_type": "display_data"
    }
   ],
   "source": [
    "corr = New_df.corr(method='kendall')\n",
    "plt.figure(figsize=(15,7))\n",
    "sns.heatmap(corr, annot=True)"
   ]
  },
  {
   "cell_type": "markdown",
   "id": "e6c45193",
   "metadata": {},
   "source": [
    "# feature scalling"
   ]
  },
  {
   "cell_type": "code",
   "execution_count": 44,
   "id": "5fb21dbc",
   "metadata": {},
   "outputs": [],
   "source": [
    "from sklearn.preprocessing import StandardScaler\n",
    "ss=StandardScaler()"
   ]
  },
  {
   "cell_type": "code",
   "execution_count": 45,
   "id": "a879e688",
   "metadata": {},
   "outputs": [],
   "source": [
    "New_df=New_df.drop(['name','rate','rest_type'],axis=1)"
   ]
  },
  {
   "cell_type": "code",
   "execution_count": 46,
   "id": "75e7d5ad",
   "metadata": {},
   "outputs": [
    {
     "data": {
      "text/plain": [
       "(array([[ 0.72901553,  2.36839517,  0.48009934, ...,  0.42495852,\n",
       "         -2.39814187, -1.60357219],\n",
       "        [ 0.72901553, -0.42222684,  0.49370802, ...,  0.42495852,\n",
       "         -2.39814187, -1.60357219],\n",
       "        [ 0.72901553, -0.42222684,  0.64226941, ...,  0.42495852,\n",
       "         -2.39814187, -1.60357219],\n",
       "        ...,\n",
       "        [-1.37171288, -0.42222684, -0.36817482, ...,  1.93702078,\n",
       "          2.72724594,  1.77887298],\n",
       "        [-1.37171288,  2.36839517, -0.13115704, ...,  4.09710972,\n",
       "          2.72724594,  1.77887298],\n",
       "        [-1.37171288, -0.42222684, -0.38405161, ...,  1.93702078,\n",
       "          2.72724594,  1.77887298]]),\n",
       " array([4.1, 4.1, 3.8, ..., 3.6, 4.3, 3.4]))"
      ]
     },
     "execution_count": 46,
     "metadata": {},
     "output_type": "execute_result"
    }
   ],
   "source": [
    "x=StandardScaler().fit(New_df).transform(New_df)\n",
    "y=Zomato_dataset['rate'].values\n",
    "x,y"
   ]
  },
  {
   "cell_type": "markdown",
   "id": "3288f0c9",
   "metadata": {},
   "source": [
    "# split the data set into train and test data"
   ]
  },
  {
   "cell_type": "code",
   "execution_count": 47,
   "id": "faea6808",
   "metadata": {},
   "outputs": [],
   "source": [
    "from sklearn.model_selection import train_test_split\n",
    "X_train,X_test,y_train,y_test=train_test_split(x,y,test_size=0.10,random_state=40)"
   ]
  },
  {
   "cell_type": "code",
   "execution_count": 48,
   "id": "03f0001d",
   "metadata": {},
   "outputs": [
    {
     "data": {
      "text/plain": [
       "(array([[-1.37171288,  2.36839517, -0.24456268, ...,  1.28899409,\n",
       "          1.01878333,  1.53726975],\n",
       "        [-1.37171288, -0.42222684, -0.3454937 , ..., -0.87109485,\n",
       "          1.01878333, -1.72437381],\n",
       "        [ 0.72901553, -0.42222684, -0.39199001, ..., -0.87109485,\n",
       "         -0.68967927,  0.32925362],\n",
       "        ...,\n",
       "        [-1.37171288, -0.42222684, -0.32054446, ...,  0.20894962,\n",
       "         -0.68967927, -0.39555606],\n",
       "        [-1.37171288,  2.36839517, -0.21961344, ...,  1.0729852 ,\n",
       "         -0.68967927,  0.69165846],\n",
       "        [ 0.72901553,  2.36839517,  0.13988243, ...,  2.36903857,\n",
       "         -2.39814187, -0.63715929]]),\n",
       " array([4.4, 3.8, 3.2, ..., 3.7, 3.9, 4.2]))"
      ]
     },
     "execution_count": 48,
     "metadata": {},
     "output_type": "execute_result"
    }
   ],
   "source": [
    "X_train,y_train"
   ]
  },
  {
   "cell_type": "markdown",
   "id": "45491998",
   "metadata": {},
   "source": [
    "# 1. Linear Rigression"
   ]
  },
  {
   "cell_type": "code",
   "execution_count": 49,
   "id": "508a30e0",
   "metadata": {},
   "outputs": [],
   "source": [
    "from sklearn.linear_model import LinearRegression\n",
    "Lin_reg=LinearRegression()"
   ]
  },
  {
   "cell_type": "markdown",
   "id": "f1cf85c3",
   "metadata": {},
   "source": [
    "# Train The Model"
   ]
  },
  {
   "cell_type": "code",
   "execution_count": 50,
   "id": "8b13efdc",
   "metadata": {},
   "outputs": [
    {
     "data": {
      "text/plain": [
       "LinearRegression()"
      ]
     },
     "execution_count": 50,
     "metadata": {},
     "output_type": "execute_result"
    }
   ],
   "source": [
    "Lin_reg.fit(X_train,y_train)"
   ]
  },
  {
   "cell_type": "markdown",
   "id": "d0f57de6",
   "metadata": {},
   "source": [
    "# Model score on Train and test Data"
   ]
  },
  {
   "cell_type": "code",
   "execution_count": 51,
   "id": "23490dc2",
   "metadata": {},
   "outputs": [
    {
     "name": "stdout",
     "output_type": "stream",
     "text": [
      "Score of Train data  0.2923805882917603\n",
      "Score of Test data  0.2906953558539177\n"
     ]
    }
   ],
   "source": [
    "print('Score of Train data ',Lin_reg.score(X_train,y_train))\n",
    "print('Score of Test data ',Lin_reg.score(X_test,y_test))"
   ]
  },
  {
   "cell_type": "code",
   "execution_count": 52,
   "id": "2080bdd2",
   "metadata": {},
   "outputs": [
    {
     "data": {
      "text/plain": [
       "0.2906953558539177"
      ]
     },
     "execution_count": 52,
     "metadata": {},
     "output_type": "execute_result"
    }
   ],
   "source": [
    "Lr_predict=Lin_reg.predict(X_test)\n",
    "from sklearn.metrics import r2_score\n",
    "r2_score(y_test,Lr_predict)"
   ]
  },
  {
   "cell_type": "markdown",
   "id": "3b409c0c",
   "metadata": {},
   "source": [
    "# Applying linear Regression ,Accuracy 30%"
   ]
  },
  {
   "cell_type": "markdown",
   "id": "4ba45070",
   "metadata": {},
   "source": [
    "# 2.Dicision Tree"
   ]
  },
  {
   "cell_type": "code",
   "execution_count": 53,
   "id": "0150f1d5",
   "metadata": {},
   "outputs": [],
   "source": [
    "from sklearn.tree import DecisionTreeRegressor\n",
    "Deci_Tree_Reg=DecisionTreeRegressor(min_samples_leaf=.0001)"
   ]
  },
  {
   "cell_type": "markdown",
   "id": "d3f9b7e6",
   "metadata": {},
   "source": [
    "# Train The model"
   ]
  },
  {
   "cell_type": "code",
   "execution_count": 54,
   "id": "c4f7783d",
   "metadata": {},
   "outputs": [
    {
     "data": {
      "text/plain": [
       "DecisionTreeRegressor(min_samples_leaf=0.0001)"
      ]
     },
     "execution_count": 54,
     "metadata": {},
     "output_type": "execute_result"
    }
   ],
   "source": [
    "Deci_Tree_Reg.fit(X_train,y_train)"
   ]
  },
  {
   "cell_type": "markdown",
   "id": "7e728f5c",
   "metadata": {},
   "source": [
    "# Model score on Train and test Data"
   ]
  },
  {
   "cell_type": "code",
   "execution_count": 55,
   "id": "123f576b",
   "metadata": {},
   "outputs": [
    {
     "name": "stdout",
     "output_type": "stream",
     "text": [
      "Score of Train data  0.9247354546929972\n",
      "Score of Test data  0.8107066926686101\n"
     ]
    }
   ],
   "source": [
    "print('Score of Train data ',Deci_Tree_Reg.score(X_train,y_train))\n",
    "print('Score of Test data ',Deci_Tree_Reg.score(X_test,y_test))"
   ]
  },
  {
   "cell_type": "code",
   "execution_count": 56,
   "id": "8dc935b6",
   "metadata": {},
   "outputs": [
    {
     "data": {
      "text/plain": [
       "0.8107066926686101"
      ]
     },
     "execution_count": 56,
     "metadata": {},
     "output_type": "execute_result"
    }
   ],
   "source": [
    "Dt_predict=Deci_Tree_Reg.predict(X_test)\n",
    "r2_score(y_test,Dt_predict)"
   ]
  },
  {
   "cell_type": "markdown",
   "id": "e8bc4aaa",
   "metadata": {},
   "source": [
    "# Applying Decision tree regression ,Accuracy 80%"
   ]
  },
  {
   "cell_type": "markdown",
   "id": "b64072da",
   "metadata": {},
   "source": [
    "# 3.Random Forest"
   ]
  },
  {
   "cell_type": "code",
   "execution_count": 57,
   "id": "4064289a",
   "metadata": {},
   "outputs": [],
   "source": [
    "from sklearn.ensemble import RandomForestRegressor\n",
    "rf_reg=RandomForestRegressor()"
   ]
  },
  {
   "cell_type": "markdown",
   "id": "ff730d51",
   "metadata": {},
   "source": [
    "# Train the Model"
   ]
  },
  {
   "cell_type": "code",
   "execution_count": 58,
   "id": "a0580007",
   "metadata": {},
   "outputs": [
    {
     "data": {
      "text/plain": [
       "RandomForestRegressor()"
      ]
     },
     "execution_count": 58,
     "metadata": {},
     "output_type": "execute_result"
    }
   ],
   "source": [
    "rf_reg.fit(X_train,y_train)"
   ]
  },
  {
   "cell_type": "markdown",
   "id": "37258144",
   "metadata": {},
   "source": [
    "# Model score on Train and test Data"
   ]
  },
  {
   "cell_type": "code",
   "execution_count": 59,
   "id": "c077e314",
   "metadata": {},
   "outputs": [
    {
     "name": "stdout",
     "output_type": "stream",
     "text": [
      "Score of Train data  0.9857864626920734\n",
      "Score of Test data  0.9023476383866154\n"
     ]
    }
   ],
   "source": [
    "print('Score of Train data ',rf_reg.score(X_train,y_train))\n",
    "print('Score of Test data ',rf_reg.score(X_test,y_test))"
   ]
  },
  {
   "cell_type": "code",
   "execution_count": 60,
   "id": "e8e2c49e",
   "metadata": {},
   "outputs": [
    {
     "data": {
      "text/plain": [
       "0.9023476383866154"
      ]
     },
     "execution_count": 60,
     "metadata": {},
     "output_type": "execute_result"
    }
   ],
   "source": [
    "rf_predict=rf_reg.predict(X_test)\n",
    "from sklearn.metrics import r2_score\n",
    "r2_score(y_test,rf_predict)"
   ]
  },
  {
   "cell_type": "markdown",
   "id": "e31e5b31",
   "metadata": {},
   "source": [
    "# Applying Random Forest regression ,Accuracy 90%"
   ]
  },
  {
   "cell_type": "markdown",
   "id": "a036a99b",
   "metadata": {},
   "source": [
    "# As you can see from above data \"Random Forest Regressor\" Given the highest Accuacry score\n"
   ]
  },
  {
   "cell_type": "markdown",
   "id": "3b772f97",
   "metadata": {},
   "source": [
    "# Predict Rating With Random Forest Regressor"
   ]
  },
  {
   "cell_type": "code",
   "execution_count": 61,
   "id": "a760fed5",
   "metadata": {},
   "outputs": [
    {
     "data": {
      "text/plain": [
       "array([4.582])"
      ]
     },
     "execution_count": 61,
     "metadata": {},
     "output_type": "execute_result"
    }
   ],
   "source": [
    "rf_reg.predict([[1,1,500,1200,350,3,3]])"
   ]
  },
  {
   "cell_type": "markdown",
   "id": "58273b0b",
   "metadata": {},
   "source": [
    "Giving accuracy 4.5"
   ]
  },
  {
   "cell_type": "markdown",
   "id": "c22bbaa0",
   "metadata": {},
   "source": [
    "# Compare Actual rating with Random Forest regressior Rating"
   ]
  },
  {
   "cell_type": "code",
   "execution_count": 62,
   "id": "1eb7208c",
   "metadata": {},
   "outputs": [
    {
     "data": {
      "text/html": [
       "<div>\n",
       "<style scoped>\n",
       "    .dataframe tbody tr th:only-of-type {\n",
       "        vertical-align: middle;\n",
       "    }\n",
       "\n",
       "    .dataframe tbody tr th {\n",
       "        vertical-align: top;\n",
       "    }\n",
       "\n",
       "    .dataframe thead th {\n",
       "        text-align: right;\n",
       "    }\n",
       "</style>\n",
       "<table border=\"1\" class=\"dataframe\">\n",
       "  <thead>\n",
       "    <tr style=\"text-align: right;\">\n",
       "      <th></th>\n",
       "      <th>Actual_Rating</th>\n",
       "      <th>Predicted_rating</th>\n",
       "    </tr>\n",
       "  </thead>\n",
       "  <tbody>\n",
       "    <tr>\n",
       "      <th>0</th>\n",
       "      <td>4.0</td>\n",
       "      <td>3.81</td>\n",
       "    </tr>\n",
       "    <tr>\n",
       "      <th>1</th>\n",
       "      <td>3.6</td>\n",
       "      <td>3.47</td>\n",
       "    </tr>\n",
       "    <tr>\n",
       "      <th>2</th>\n",
       "      <td>3.0</td>\n",
       "      <td>3.21</td>\n",
       "    </tr>\n",
       "    <tr>\n",
       "      <th>3</th>\n",
       "      <td>3.7</td>\n",
       "      <td>3.70</td>\n",
       "    </tr>\n",
       "    <tr>\n",
       "      <th>4</th>\n",
       "      <td>4.2</td>\n",
       "      <td>4.20</td>\n",
       "    </tr>\n",
       "    <tr>\n",
       "      <th>...</th>\n",
       "      <td>...</td>\n",
       "      <td>...</td>\n",
       "    </tr>\n",
       "    <tr>\n",
       "      <th>4162</th>\n",
       "      <td>3.5</td>\n",
       "      <td>3.50</td>\n",
       "    </tr>\n",
       "    <tr>\n",
       "      <th>4163</th>\n",
       "      <td>3.6</td>\n",
       "      <td>3.61</td>\n",
       "    </tr>\n",
       "    <tr>\n",
       "      <th>4164</th>\n",
       "      <td>3.3</td>\n",
       "      <td>3.34</td>\n",
       "    </tr>\n",
       "    <tr>\n",
       "      <th>4165</th>\n",
       "      <td>4.1</td>\n",
       "      <td>4.15</td>\n",
       "    </tr>\n",
       "    <tr>\n",
       "      <th>4166</th>\n",
       "      <td>3.9</td>\n",
       "      <td>3.72</td>\n",
       "    </tr>\n",
       "  </tbody>\n",
       "</table>\n",
       "<p>4167 rows × 2 columns</p>\n",
       "</div>"
      ],
      "text/plain": [
       "      Actual_Rating  Predicted_rating\n",
       "0               4.0              3.81\n",
       "1               3.6              3.47\n",
       "2               3.0              3.21\n",
       "3               3.7              3.70\n",
       "4               4.2              4.20\n",
       "...             ...               ...\n",
       "4162            3.5              3.50\n",
       "4163            3.6              3.61\n",
       "4164            3.3              3.34\n",
       "4165            4.1              4.15\n",
       "4166            3.9              3.72\n",
       "\n",
       "[4167 rows x 2 columns]"
      ]
     },
     "execution_count": 62,
     "metadata": {},
     "output_type": "execute_result"
    }
   ],
   "source": [
    "Comare_df=pd.DataFrame({'Actual_Rating':y_test,\n",
    "                        'Predicted_rating':np.round(rf_predict,2)})\n",
    "Comare_df"
   ]
  },
  {
   "cell_type": "markdown",
   "id": "eefb899b",
   "metadata": {},
   "source": [
    "# Conclusion:"
   ]
  },
  {
   "cell_type": "markdown",
   "id": "fce9fa5d",
   "metadata": {},
   "source": [
    "1.Three model has been trained namely, Linear Regression,Decision Tree,Random Forest Respectively.\n",
    "\n",
    "2.Based on the analysis the best model for prediction is Random Forest Model.\n",
    "\n",
    "3.90% accurecy found in Random Forest Model."
   ]
  },
  {
   "cell_type": "markdown",
   "id": "d81880b4",
   "metadata": {},
   "source": [
    "# Save the Model"
   ]
  },
  {
   "cell_type": "code",
   "execution_count": 63,
   "id": "4e2c3fa1",
   "metadata": {},
   "outputs": [],
   "source": [
    "import pickle\n",
    "with open('resturant_rating_predictor.pkl', 'wb') as file:\n",
    "    pickle.dump(rf_reg, file)"
   ]
  },
  {
   "cell_type": "code",
   "execution_count": null,
   "id": "fe5ee6d7",
   "metadata": {},
   "outputs": [],
   "source": []
  },
  {
   "cell_type": "code",
   "execution_count": null,
   "id": "8c21b68a",
   "metadata": {},
   "outputs": [],
   "source": []
  },
  {
   "cell_type": "code",
   "execution_count": null,
   "id": "29d0569c",
   "metadata": {},
   "outputs": [],
   "source": []
  },
  {
   "cell_type": "code",
   "execution_count": null,
   "id": "da1f0d2f",
   "metadata": {},
   "outputs": [],
   "source": []
  },
  {
   "cell_type": "code",
   "execution_count": null,
   "id": "21eab188",
   "metadata": {},
   "outputs": [],
   "source": []
  },
  {
   "cell_type": "code",
   "execution_count": null,
   "id": "e2600ac8",
   "metadata": {},
   "outputs": [],
   "source": []
  },
  {
   "cell_type": "code",
   "execution_count": null,
   "id": "1c9dcf7b",
   "metadata": {},
   "outputs": [],
   "source": []
  },
  {
   "cell_type": "code",
   "execution_count": null,
   "id": "3445ac58",
   "metadata": {},
   "outputs": [],
   "source": []
  },
  {
   "cell_type": "code",
   "execution_count": null,
   "id": "ca3213e6",
   "metadata": {},
   "outputs": [],
   "source": []
  },
  {
   "cell_type": "code",
   "execution_count": null,
   "id": "ca876d27",
   "metadata": {},
   "outputs": [],
   "source": []
  },
  {
   "cell_type": "code",
   "execution_count": null,
   "id": "bf6af2b6",
   "metadata": {},
   "outputs": [],
   "source": []
  },
  {
   "cell_type": "code",
   "execution_count": null,
   "id": "2dbdd1af",
   "metadata": {},
   "outputs": [],
   "source": []
  },
  {
   "cell_type": "code",
   "execution_count": null,
   "id": "4ad31320",
   "metadata": {},
   "outputs": [],
   "source": []
  },
  {
   "cell_type": "code",
   "execution_count": null,
   "id": "8d18182f",
   "metadata": {},
   "outputs": [],
   "source": []
  },
  {
   "cell_type": "code",
   "execution_count": null,
   "id": "e7760bb1",
   "metadata": {},
   "outputs": [],
   "source": []
  },
  {
   "cell_type": "code",
   "execution_count": null,
   "id": "c05d7d56",
   "metadata": {},
   "outputs": [],
   "source": []
  },
  {
   "cell_type": "code",
   "execution_count": null,
   "id": "06a3476f",
   "metadata": {},
   "outputs": [],
   "source": []
  },
  {
   "cell_type": "code",
   "execution_count": null,
   "id": "c89f3ae4",
   "metadata": {},
   "outputs": [],
   "source": []
  },
  {
   "cell_type": "code",
   "execution_count": null,
   "id": "5d70680b",
   "metadata": {},
   "outputs": [],
   "source": []
  },
  {
   "cell_type": "code",
   "execution_count": null,
   "id": "6b841683",
   "metadata": {},
   "outputs": [],
   "source": []
  },
  {
   "cell_type": "code",
   "execution_count": null,
   "id": "9db826ce",
   "metadata": {},
   "outputs": [],
   "source": []
  },
  {
   "cell_type": "code",
   "execution_count": null,
   "id": "f9d3efe2",
   "metadata": {},
   "outputs": [],
   "source": []
  },
  {
   "cell_type": "code",
   "execution_count": null,
   "id": "e225bbd9",
   "metadata": {},
   "outputs": [],
   "source": []
  },
  {
   "cell_type": "code",
   "execution_count": null,
   "id": "483fe4dd",
   "metadata": {},
   "outputs": [],
   "source": []
  },
  {
   "cell_type": "code",
   "execution_count": null,
   "id": "fe4b662a",
   "metadata": {},
   "outputs": [],
   "source": []
  },
  {
   "cell_type": "code",
   "execution_count": null,
   "id": "8d5c4db3",
   "metadata": {},
   "outputs": [],
   "source": []
  },
  {
   "cell_type": "code",
   "execution_count": null,
   "id": "f4b538f4",
   "metadata": {},
   "outputs": [],
   "source": []
  },
  {
   "cell_type": "code",
   "execution_count": null,
   "id": "3fb511b0",
   "metadata": {},
   "outputs": [],
   "source": []
  },
  {
   "cell_type": "code",
   "execution_count": null,
   "id": "aafb3be5",
   "metadata": {},
   "outputs": [],
   "source": []
  },
  {
   "cell_type": "code",
   "execution_count": null,
   "id": "93151593",
   "metadata": {},
   "outputs": [],
   "source": []
  },
  {
   "cell_type": "code",
   "execution_count": null,
   "id": "1b0161e6",
   "metadata": {},
   "outputs": [],
   "source": []
  },
  {
   "cell_type": "code",
   "execution_count": null,
   "id": "edf712aa",
   "metadata": {},
   "outputs": [],
   "source": []
  },
  {
   "cell_type": "code",
   "execution_count": null,
   "id": "45401e64",
   "metadata": {},
   "outputs": [],
   "source": []
  },
  {
   "cell_type": "code",
   "execution_count": null,
   "id": "19dc0721",
   "metadata": {},
   "outputs": [],
   "source": []
  },
  {
   "cell_type": "code",
   "execution_count": null,
   "id": "10e6ffdd",
   "metadata": {},
   "outputs": [],
   "source": []
  },
  {
   "cell_type": "code",
   "execution_count": null,
   "id": "431c0b24",
   "metadata": {},
   "outputs": [],
   "source": []
  },
  {
   "cell_type": "code",
   "execution_count": null,
   "id": "4f0f5d37",
   "metadata": {},
   "outputs": [],
   "source": []
  },
  {
   "cell_type": "code",
   "execution_count": null,
   "id": "426dae72",
   "metadata": {},
   "outputs": [],
   "source": []
  },
  {
   "cell_type": "code",
   "execution_count": null,
   "id": "d925a95b",
   "metadata": {},
   "outputs": [],
   "source": []
  },
  {
   "cell_type": "code",
   "execution_count": null,
   "id": "9c21a456",
   "metadata": {},
   "outputs": [],
   "source": []
  },
  {
   "cell_type": "code",
   "execution_count": null,
   "id": "5cc6032e",
   "metadata": {},
   "outputs": [],
   "source": []
  },
  {
   "cell_type": "code",
   "execution_count": null,
   "id": "36632de7",
   "metadata": {},
   "outputs": [],
   "source": []
  },
  {
   "cell_type": "code",
   "execution_count": null,
   "id": "c1de528c",
   "metadata": {},
   "outputs": [],
   "source": []
  },
  {
   "cell_type": "code",
   "execution_count": null,
   "id": "afb43433",
   "metadata": {},
   "outputs": [],
   "source": []
  },
  {
   "cell_type": "code",
   "execution_count": null,
   "id": "8c56f1b0",
   "metadata": {},
   "outputs": [],
   "source": []
  },
  {
   "cell_type": "code",
   "execution_count": null,
   "id": "c1d35972",
   "metadata": {},
   "outputs": [],
   "source": []
  },
  {
   "cell_type": "code",
   "execution_count": null,
   "id": "af493512",
   "metadata": {},
   "outputs": [],
   "source": []
  },
  {
   "cell_type": "code",
   "execution_count": null,
   "id": "7449a388",
   "metadata": {},
   "outputs": [],
   "source": []
  },
  {
   "cell_type": "code",
   "execution_count": null,
   "id": "363061a1",
   "metadata": {},
   "outputs": [],
   "source": []
  },
  {
   "cell_type": "code",
   "execution_count": null,
   "id": "abbea586",
   "metadata": {},
   "outputs": [],
   "source": []
  },
  {
   "cell_type": "code",
   "execution_count": null,
   "id": "6775e900",
   "metadata": {},
   "outputs": [],
   "source": []
  },
  {
   "cell_type": "code",
   "execution_count": null,
   "id": "9f29884c",
   "metadata": {},
   "outputs": [],
   "source": []
  }
 ],
 "metadata": {
  "kernelspec": {
   "display_name": "Python 3 (ipykernel)",
   "language": "python",
   "name": "python3"
  },
  "language_info": {
   "codemirror_mode": {
    "name": "ipython",
    "version": 3
   },
   "file_extension": ".py",
   "mimetype": "text/x-python",
   "name": "python",
   "nbconvert_exporter": "python",
   "pygments_lexer": "ipython3",
   "version": "3.9.13"
  }
 },
 "nbformat": 4,
 "nbformat_minor": 5
}
